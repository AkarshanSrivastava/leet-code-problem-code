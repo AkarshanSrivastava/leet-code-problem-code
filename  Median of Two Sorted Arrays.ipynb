{
 "cells": [
  {
   "cell_type": "code",
   "execution_count": 190,
   "id": "a36dfa24",
   "metadata": {},
   "outputs": [],
   "source": [
    "#nums1=[0,0,0,0,0]\n",
    "#nums2=[-1,0,0,0,0,0,1]\n",
    "\n",
    "\n",
    "nums1=[1,3]\n",
    "nums2=[2,7]"
   ]
  },
  {
   "cell_type": "code",
   "execution_count": 195,
   "id": "3a673c23",
   "metadata": {},
   "outputs": [
    {
     "data": {
      "text/plain": [
       "13.0"
      ]
     },
     "execution_count": 195,
     "metadata": {},
     "output_type": "execute_result"
    }
   ],
   "source": [
    "#########################mean########################\n",
    "class Solution:\n",
    "    def findMedianSortedArrays(self, nums1, nums2):\n",
    "        nums8=[]\n",
    "\n",
    "        for i in nums1:\n",
    "            nums8.append(i)\n",
    "        nums9=[]\n",
    "        for j in nums2:\n",
    "            nums9.append(j)\n",
    "        while len(nums9)!=len(nums8):\n",
    "            if len(nums1)>len(nums2):\n",
    "                \n",
    "                nums9.append(0)\n",
    "            elif len(nums2)>len(nums1):\n",
    "                \n",
    "                nums8.append(0)\n",
    "\n",
    "        import numpy as np\n",
    "        nums3=np.add(nums8,nums9)\n",
    "        nums4=sum(nums3)\n",
    "        d=len(nums1)+len(nums2)\n",
    "        output=nums4/d\n",
    "        #output=np.median(nums4)\n",
    "        return output\n",
    "    \n",
    "akar=Solution()\n",
    "akar.findMedianSortedArrays(nums1,nums2)"
   ]
  },
  {
   "cell_type": "code",
   "execution_count": 206,
   "id": "31841f74",
   "metadata": {},
   "outputs": [
    {
     "data": {
      "text/plain": [
       "2.5"
      ]
     },
     "execution_count": 206,
     "metadata": {},
     "output_type": "execute_result"
    }
   ],
   "source": [
    "class Solution:\n",
    "    def findMedianSortedArrays(self, nums1, nums2):\n",
    "        import numpy as np\n",
    "        out=np.median(nums1+nums2)\n",
    "        return out\n",
    "akar=Solution()\n",
    "akar.findMedianSortedArrays(nums1,nums2)"
   ]
  },
  {
   "cell_type": "code",
   "execution_count": null,
   "id": "6a62d332",
   "metadata": {},
   "outputs": [],
   "source": []
  }
 ],
 "metadata": {
  "kernelspec": {
   "display_name": "Python 3 (ipykernel)",
   "language": "python",
   "name": "python3"
  },
  "language_info": {
   "codemirror_mode": {
    "name": "ipython",
    "version": 3
   },
   "file_extension": ".py",
   "mimetype": "text/x-python",
   "name": "python",
   "nbconvert_exporter": "python",
   "pygments_lexer": "ipython3",
   "version": "3.10.4"
  }
 },
 "nbformat": 4,
 "nbformat_minor": 5
}
