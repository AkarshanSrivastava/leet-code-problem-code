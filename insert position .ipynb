{
 "cells": [
  {
   "cell_type": "code",
   "execution_count": 120,
   "id": "e38c8c7a",
   "metadata": {},
   "outputs": [
    {
     "data": {
      "text/plain": [
       "4"
      ]
     },
     "execution_count": 120,
     "metadata": {},
     "output_type": "execute_result"
    }
   ],
   "source": [
    "nums = [1,3,5,6]\n",
    "target = 10\n",
    "class Solution:\n",
    "    def searchInsert(self, nums: int, target: int) -> int:\n",
    "        if target not in nums:\n",
    "            for i in range(len(nums)):\n",
    "                if nums[i]>target:\n",
    "                    \n",
    "                    return i\n",
    "                #else:\n",
    "                    #return len(nums)+1\n",
    "        else:\n",
    "            for i in range(len(nums)):\n",
    "                if nums[i]==target:\n",
    "                    return i\n",
    "                    \n",
    "        \n",
    "        if nums[i]>target:\n",
    "            j=i\n",
    "        else:\n",
    "            j=len(nums)\n",
    "        return j\n",
    "        \n",
    "akar=Solution()\n",
    "a=akar.searchInsert(nums,target)\n",
    "a"
   ]
  },
  {
   "cell_type": "code",
   "execution_count": null,
   "id": "ddf0a864",
   "metadata": {},
   "outputs": [],
   "source": []
  }
 ],
 "metadata": {
  "kernelspec": {
   "display_name": "Python 3 (ipykernel)",
   "language": "python",
   "name": "python3"
  },
  "language_info": {
   "codemirror_mode": {
    "name": "ipython",
    "version": 3
   },
   "file_extension": ".py",
   "mimetype": "text/x-python",
   "name": "python",
   "nbconvert_exporter": "python",
   "pygments_lexer": "ipython3",
   "version": "3.10.4"
  }
 },
 "nbformat": 4,
 "nbformat_minor": 5
}
