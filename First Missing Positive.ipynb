{
 "cells": [
  {
   "cell_type": "code",
   "execution_count": 110,
   "id": "21f9f5c5",
   "metadata": {},
   "outputs": [],
   "source": [
    "nums = [1,2,0]"
   ]
  },
  {
   "cell_type": "code",
   "execution_count": 111,
   "id": "38e9a956",
   "metadata": {},
   "outputs": [
    {
     "name": "stdout",
     "output_type": "stream",
     "text": [
      "3\n"
     ]
    }
   ],
   "source": [
    "class Solution:\n",
    "    def firstMissingPositive(self, nums):\n",
    "        nums.sort()\n",
    "        small=1\n",
    "        for i in nums:\n",
    "            if small==i:\n",
    "                small=small+1\n",
    "        print(small)\n",
    "akar=Solution()\n",
    "akar.firstMissingPositive(nums)"
   ]
  },
  {
   "cell_type": "code",
   "execution_count": 112,
   "id": "344d2a39",
   "metadata": {},
   "outputs": [
    {
     "name": "stdout",
     "output_type": "stream",
     "text": [
      "1\n"
     ]
    }
   ],
   "source": [
    "nums = [7,8,9,11,12]\n",
    "class Solution:\n",
    "    def firstMissingPositive(self, nums):\n",
    "        nums.sort()\n",
    "        small=1\n",
    "        for i in nums:\n",
    "            if small==i:\n",
    "                small=small+1\n",
    "        return small\n",
    "akar=Solution()\n",
    "a=akar.firstMissingPositive(nums)\n",
    "print(a)"
   ]
  },
  {
   "cell_type": "code",
   "execution_count": null,
   "id": "6649535d",
   "metadata": {},
   "outputs": [],
   "source": []
  }
 ],
 "metadata": {
  "kernelspec": {
   "display_name": "Python 3 (ipykernel)",
   "language": "python",
   "name": "python3"
  },
  "language_info": {
   "codemirror_mode": {
    "name": "ipython",
    "version": 3
   },
   "file_extension": ".py",
   "mimetype": "text/x-python",
   "name": "python",
   "nbconvert_exporter": "python",
   "pygments_lexer": "ipython3",
   "version": "3.10.4"
  }
 },
 "nbformat": 4,
 "nbformat_minor": 5
}
