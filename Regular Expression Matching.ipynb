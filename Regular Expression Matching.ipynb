{
 "cells": [
  {
   "cell_type": "code",
   "execution_count": 39,
   "id": "f0d3d3ad",
   "metadata": {},
   "outputs": [],
   "source": [
    "s = \"aa\"\n",
    "p = \"a*\""
   ]
  },
  {
   "cell_type": "code",
   "execution_count": 42,
   "id": "eaccb69f",
   "metadata": {},
   "outputs": [
    {
     "data": {
      "text/plain": [
       "'true'"
      ]
     },
     "execution_count": 42,
     "metadata": {},
     "output_type": "execute_result"
    }
   ],
   "source": [
    "class Solution:\n",
    "    def isMatch(self, s,p):\n",
    "        import re\n",
    "        q=re.fullmatch(p,s)\n",
    "        if q.string==s:\n",
    "            return \"true\"\n",
    "        else:\n",
    "            return \"false\"\n",
    "        \n",
    "ak=Solution()\n",
    "ak.isMatch(s,p)"
   ]
  },
  {
   "cell_type": "code",
   "execution_count": null,
   "id": "e4b44a39",
   "metadata": {},
   "outputs": [],
   "source": [
    "import re\n",
    "class Solution:\n",
    "    def isMatch(self, s: str, p: str) -> bool:\n",
    "        return re.search(\"^\" + p + \"$\", s)!=None"
   ]
  }
 ],
 "metadata": {
  "kernelspec": {
   "display_name": "Python 3 (ipykernel)",
   "language": "python",
   "name": "python3"
  },
  "language_info": {
   "codemirror_mode": {
    "name": "ipython",
    "version": 3
   },
   "file_extension": ".py",
   "mimetype": "text/x-python",
   "name": "python",
   "nbconvert_exporter": "python",
   "pygments_lexer": "ipython3",
   "version": "3.10.4"
  }
 },
 "nbformat": 4,
 "nbformat_minor": 5
}
