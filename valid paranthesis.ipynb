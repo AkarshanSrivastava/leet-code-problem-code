{
 "cells": [
  {
   "cell_type": "code",
   "execution_count": 12,
   "id": "22758243",
   "metadata": {},
   "outputs": [],
   "source": []
  },
  {
   "cell_type": "code",
   "execution_count": 13,
   "id": "7805a50b",
   "metadata": {},
   "outputs": [],
   "source": []
  },
  {
   "cell_type": "code",
   "execution_count": 17,
   "id": "209dc82e",
   "metadata": {},
   "outputs": [
    {
     "name": "stdout",
     "output_type": "stream",
     "text": [
      "false\n"
     ]
    }
   ],
   "source": [
    "if len(s)>0:\n",
    "    print(\"false\")\n",
    "else:\n",
    "    print(\"true\")"
   ]
  },
  {
   "cell_type": "code",
   "execution_count": 22,
   "id": "7795c847",
   "metadata": {},
   "outputs": [
    {
     "name": "stdout",
     "output_type": "stream",
     "text": [
      "true\n"
     ]
    }
   ],
   "source": [
    "s = \"()\"\n",
    "class Solution:\n",
    "    def isValid(self, s: str) -> bool:\n",
    "        s=s.replace(\"()\",\"\").replace(\"{}\",\"\").replace(\"[]\",\"\")\n",
    "        if len(s)==0:\n",
    "            print(\"true\")\n",
    "        else:\n",
    "            print(\"false\")\n",
    "akar=Solution()\n",
    "akar.isValid(s)\n",
    "        "
   ]
  },
  {
   "cell_type": "code",
   "execution_count": 41,
   "id": "873725ac",
   "metadata": {},
   "outputs": [],
   "source": [
    "s = \"({[]})\"\n"
   ]
  },
  {
   "cell_type": "code",
   "execution_count": 45,
   "id": "a3fa2498",
   "metadata": {},
   "outputs": [
    {
     "name": "stdout",
     "output_type": "stream",
     "text": [
      "ye\n",
      "True\n"
     ]
    }
   ],
   "source": [
    "class Solution:\n",
    "    def isValid(self, string: str) -> bool:\n",
    "         while True:\n",
    "            if '()' in string:\n",
    "                print(\"ye\")\n",
    "                string = string.replace('()', '')\n",
    "            elif '{}' in string:\n",
    "                string = string.replace('{}', '')\n",
    "            elif '[]' in string:\n",
    "                string = string.replace('[]', '')\n",
    "\n",
    "            else:\n",
    "                return not string\n",
    "akar=Solution()\n",
    "a=akar.isValid(s)\n",
    "print(a)"
   ]
  },
  {
   "cell_type": "code",
   "execution_count": 48,
   "id": "1d631b73",
   "metadata": {},
   "outputs": [
    {
     "ename": "KeyboardInterrupt",
     "evalue": "",
     "output_type": "error",
     "traceback": [
      "\u001b[1;31m---------------------------------------------------------------------------\u001b[0m",
      "\u001b[1;31mKeyboardInterrupt\u001b[0m                         Traceback (most recent call last)",
      "Input \u001b[1;32mIn [48]\u001b[0m, in \u001b[0;36m<cell line: 1>\u001b[1;34m()\u001b[0m\n\u001b[1;32m----> 1\u001b[0m \u001b[38;5;28;01mwhile\u001b[39;00m \u001b[38;5;28;01mTrue\u001b[39;00m:\n\u001b[0;32m      2\u001b[0m     \u001b[38;5;28;01mif\u001b[39;00m \u001b[38;5;124m'\u001b[39m\u001b[38;5;124m()\u001b[39m\u001b[38;5;124m'\u001b[39m \u001b[38;5;129;01min\u001b[39;00m s:\n\u001b[0;32m      3\u001b[0m         \u001b[38;5;28mprint\u001b[39m(\u001b[38;5;124m\"\u001b[39m\u001b[38;5;124mye\u001b[39m\u001b[38;5;124m\"\u001b[39m)\n",
      "\u001b[1;31mKeyboardInterrupt\u001b[0m: "
     ]
    }
   ],
   "source": [
    "while True:\n",
    "    if '()' in s:\n",
    "        print(\"ye\")\n",
    "    else:\n",
    "         not s"
   ]
  },
  {
   "cell_type": "code",
   "execution_count": null,
   "id": "dc6b9cce",
   "metadata": {},
   "outputs": [],
   "source": []
  }
 ],
 "metadata": {
  "kernelspec": {
   "display_name": "Python 3 (ipykernel)",
   "language": "python",
   "name": "python3"
  },
  "language_info": {
   "codemirror_mode": {
    "name": "ipython",
    "version": 3
   },
   "file_extension": ".py",
   "mimetype": "text/x-python",
   "name": "python",
   "nbconvert_exporter": "python",
   "pygments_lexer": "ipython3",
   "version": "3.10.4"
  }
 },
 "nbformat": 4,
 "nbformat_minor": 5
}
