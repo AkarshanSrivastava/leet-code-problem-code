{
 "cells": [
  {
   "cell_type": "code",
   "execution_count": 33,
   "id": "6be41d50",
   "metadata": {},
   "outputs": [],
   "source": [
    "s=\"42\""
   ]
  },
  {
   "cell_type": "code",
   "execution_count": 35,
   "id": "29981008",
   "metadata": {},
   "outputs": [
    {
     "data": {
      "text/plain": [
       "42"
      ]
     },
     "execution_count": 35,
     "metadata": {},
     "output_type": "execute_result"
    }
   ],
   "source": [
    "class Solution:\n",
    "    def myAtoi(self, s):\n",
    "        \n",
    "        import re\n",
    "        w=re.findall(r\"[aA-zZ]\", s)\n",
    "        for i in s:\n",
    "            if i in w:\n",
    "                s=s.replace(i,\"\")\n",
    "        s=s.replace(\" \",\"\")\n",
    "        b=int(s)\n",
    "        return b\n",
    "akar=Solution()\n",
    "akar.myAtoi(a)"
   ]
  },
  {
   "cell_type": "code",
   "execution_count": 39,
   "id": "40dcf1c7",
   "metadata": {},
   "outputs": [
    {
     "data": {
      "text/plain": [
       "42"
      ]
     },
     "execution_count": 39,
     "metadata": {},
     "output_type": "execute_result"
    }
   ],
   "source": [
    "s=\"42\"\n",
    "class Solution:\n",
    "    def myAtoi(self, s):\n",
    "        \n",
    "        s = s.strip()\n",
    "        s = re.findall('(^[\\+\\-0]*\\d+)\\D*', s)\n",
    "\n",
    "        try:\n",
    "            result = int(''.join(s))\n",
    "            MAX_INT = 2147483647\n",
    "            MIN_INT = -2147483648\n",
    "            if result > MAX_INT > 0:\n",
    "                return MAX_INT\n",
    "            elif result < MIN_INT < 0:\n",
    "                return MIN_INT\n",
    "            else:\n",
    "                return result\n",
    "        except:\n",
    "            return 0\n",
    "        \n",
    "akar=Solution()\n",
    "akar.myAtoi(s)"
   ]
  },
  {
   "cell_type": "code",
   "execution_count": 44,
   "id": "ca5c4973",
   "metadata": {},
   "outputs": [
    {
     "data": {
      "text/plain": [
       "[]"
      ]
     },
     "execution_count": 44,
     "metadata": {},
     "output_type": "execute_result"
    }
   ],
   "source": [
    "s"
   ]
  },
  {
   "cell_type": "code",
   "execution_count": null,
   "id": "43793816",
   "metadata": {},
   "outputs": [],
   "source": []
  },
  {
   "cell_type": "code",
   "execution_count": null,
   "id": "6d4f8b69",
   "metadata": {},
   "outputs": [],
   "source": []
  }
 ],
 "metadata": {
  "kernelspec": {
   "display_name": "Python 3 (ipykernel)",
   "language": "python",
   "name": "python3"
  },
  "language_info": {
   "codemirror_mode": {
    "name": "ipython",
    "version": 3
   },
   "file_extension": ".py",
   "mimetype": "text/x-python",
   "name": "python",
   "nbconvert_exporter": "python",
   "pygments_lexer": "ipython3",
   "version": "3.10.4"
  }
 },
 "nbformat": 4,
 "nbformat_minor": 5
}
