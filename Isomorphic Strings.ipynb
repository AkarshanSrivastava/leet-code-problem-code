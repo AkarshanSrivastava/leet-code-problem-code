{
 "cells": [
  {
   "cell_type": "code",
   "execution_count": 219,
   "id": "82a09381",
   "metadata": {},
   "outputs": [],
   "source": [
    "s=\"egcd\"\n",
    "t=\"adfd\""
   ]
  },
  {
   "cell_type": "code",
   "execution_count": 221,
   "id": "15daf16e",
   "metadata": {},
   "outputs": [
    {
     "name": "stdout",
     "output_type": "stream",
     "text": [
      "dfd\n"
     ]
    },
    {
     "data": {
      "text/plain": [
       "True"
      ]
     },
     "execution_count": 221,
     "metadata": {},
     "output_type": "execute_result"
    }
   ],
   "source": [
    "class Solution():\n",
    "    def isIsomorphic(self, s: str, t: str):\n",
    "        i=0\n",
    "        dict1={}\n",
    "        for i in range(len(s)):\n",
    "            dict1[s[i]]=t[i]\n",
    "        dict_va=dict1.values()\n",
    "        pp=\"\".join(ss)\n",
    "        for i in pp:\n",
    "            dd=pp.replace(i,\"\")\n",
    "            if i not in dd:        \n",
    "\n",
    "                for key,value in dict1.items():\n",
    "                    #value=\n",
    "\n",
    "                    s=s.replace(key,value)\n",
    "\n",
    "                if (s==t):\n",
    "                    return True\n",
    "                else:\n",
    "                    return False\n",
    "            else:\n",
    "                return False\n",
    "\n",
    "        \n",
    "a=Solution()\n",
    "a.isIsomorphic(s,t)"
   ]
  },
  {
   "cell_type": "code",
   "execution_count": null,
   "id": "31147416",
   "metadata": {},
   "outputs": [],
   "source": [
    "s=\"a\"\n",
    "t=\"a\"\n",
    "class Solution():\n",
    "    def isIsomorphic(self, s: str, t: str):\n",
    "        i=0\n",
    "        dict1={}\n",
    "        for i in range(len(s)):\n",
    "            dict1[s[i]]=t[i]\n",
    "        for key,value in dict1.items():\n",
    "            \n",
    "            print(key,value)\n",
    "            if(key==value):\n",
    "                i=i+1\n",
    "                print(i)\n",
    "                if (i>1):\n",
    "                    print(i)\n",
    "                    return False\n",
    "            else:\n",
    "                s=s.replace(key,value)\n",
    "        \n",
    "        if (s==t):\n",
    "            return True\n",
    "        else:\n",
    "            return False\n",
    "        \n",
    "        \n",
    "a=Solution()\n",
    "a.isIsomorphic(s,t)"
   ]
  }
 ],
 "metadata": {
  "kernelspec": {
   "display_name": "Python 3 (ipykernel)",
   "language": "python",
   "name": "python3"
  },
  "language_info": {
   "codemirror_mode": {
    "name": "ipython",
    "version": 3
   },
   "file_extension": ".py",
   "mimetype": "text/x-python",
   "name": "python",
   "nbconvert_exporter": "python",
   "pygments_lexer": "ipython3",
   "version": "3.10.4"
  }
 },
 "nbformat": 4,
 "nbformat_minor": 5
}
