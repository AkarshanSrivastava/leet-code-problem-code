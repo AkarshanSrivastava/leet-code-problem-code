{
 "cells": [
  {
   "cell_type": "code",
   "execution_count": 29,
   "id": "093d67cf",
   "metadata": {},
   "outputs": [
    {
     "name": "stdout",
     "output_type": "stream",
     "text": [
      "[18, 18, 18, 18]\n"
     ]
    }
   ],
   "source": [
    "l1 = [9,9,9,9,9,9,9]\n",
    "l2 = [9,9,9,9]\n",
    "class Solution:\n",
    "    def addTwoNumbers(self, l1, l2):\n",
    "        output=[]\n",
    "        for i in range(len(l1)):\n",
    "            for j in range(len(l2)):\n",
    "                if(i==j):\n",
    "                    output.append(l1[i]+l2[j])\n",
    "        print(output)\n",
    "            \n",
    "\n",
    "akarshan=Solution()\n",
    "akarshan.addTwoNumbers(l1,l2)"
   ]
  },
  {
   "cell_type": "code",
   "execution_count": null,
   "id": "e14e95a1",
   "metadata": {},
   "outputs": [],
   "source": [
    "class Solution:\n",
    "    def addTwoNumbers(self, l1: Optional[ListNode], l2: Optional[ListNode]) -> Optional[ListNode]:\n",
    "        \n",
    "        # 1. prep\n",
    "        dummy = ListNode()\n",
    "        cur = dummy\n",
    "        carry = 0\n",
    "        \n",
    "        # 2. actual work\n",
    "        while l1 or l2 or carry:\n",
    "            val1 = l1.val if l1 else 0\n",
    "            val2 = l2.val if l2 else 0\n",
    "            carry, r = divmod(val1 + val2 + carry, 10)\n",
    "            \n",
    "            cur.next = ListNode(val=r)\n",
    "            cur = cur.next\n",
    "            \n",
    "            l1 = l1.next if l1 else None\n",
    "            l2 = l2.next if l2 else None\n",
    "        \n",
    "        # 3. return the result\n",
    "        return dummy.next"
   ]
  },
  {
   "cell_type": "code",
   "execution_count": null,
   "id": "3f694cc6",
   "metadata": {},
   "outputs": [],
   "source": []
  },
  {
   "cell_type": "code",
   "execution_count": null,
   "id": "755affce",
   "metadata": {},
   "outputs": [],
   "source": []
  }
 ],
 "metadata": {
  "kernelspec": {
   "display_name": "Python 3 (ipykernel)",
   "language": "python",
   "name": "python3"
  },
  "language_info": {
   "codemirror_mode": {
    "name": "ipython",
    "version": 3
   },
   "file_extension": ".py",
   "mimetype": "text/x-python",
   "name": "python",
   "nbconvert_exporter": "python",
   "pygments_lexer": "ipython3",
   "version": "3.10.4"
  }
 },
 "nbformat": 4,
 "nbformat_minor": 5
}
