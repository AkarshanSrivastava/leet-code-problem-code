{
 "cells": [
  {
   "cell_type": "code",
   "execution_count": 3,
   "id": "34614473",
   "metadata": {},
   "outputs": [
    {
     "name": "stdout",
     "output_type": "stream",
     "text": [
      "58\n"
     ]
    }
   ],
   "source": [
    "s = \"LVIII\"\n",
    "class Solution:\n",
    "    def romanToInt(self, s: str) -> int:\n",
    "        \n",
    "        s=s.replace(\"IV\", \"IIII\").replace(\"IX\", \"VIIII\").replace(\"XL\", \"XXXX\").replace(\"XC\", \"LXXXX\").replace(\"CD\", \"CCCC\").replace(\"CM\", \"DCCCC\")\n",
    "\n",
    "\n",
    "        new_s=[]\n",
    "        for i in s:\n",
    "            i=i.replace(\"I\",\"1\").replace(\"V\",\"5\").replace(\"X\",\"10\").replace(\"L\",\"50\").replace(\"C\",\"100\").replace(\"D\",\"500\").replace(\"M\",\"1000\")\n",
    "\n",
    "            new_s.append(int(i))\n",
    "\n",
    "        return sum(new_s)\n",
    "Akar=Solution()\n",
    "o=Akar.romanToInt(s)\n",
    "print(o)"
   ]
  },
  {
   "cell_type": "code",
   "execution_count": null,
   "id": "443ecd23",
   "metadata": {},
   "outputs": [],
   "source": []
  }
 ],
 "metadata": {
  "kernelspec": {
   "display_name": "Python 3 (ipykernel)",
   "language": "python",
   "name": "python3"
  },
  "language_info": {
   "codemirror_mode": {
    "name": "ipython",
    "version": 3
   },
   "file_extension": ".py",
   "mimetype": "text/x-python",
   "name": "python",
   "nbconvert_exporter": "python",
   "pygments_lexer": "ipython3",
   "version": "3.10.4"
  }
 },
 "nbformat": 4,
 "nbformat_minor": 5
}
