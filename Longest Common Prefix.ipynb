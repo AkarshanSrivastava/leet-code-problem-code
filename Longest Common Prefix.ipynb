{
 "cells": [
  {
   "cell_type": "code",
   "execution_count": 550,
   "id": "a1a7b710",
   "metadata": {},
   "outputs": [
    {
     "data": {
      "text/plain": [
       "'fl'"
      ]
     },
     "execution_count": 550,
     "metadata": {},
     "output_type": "execute_result"
    }
   ],
   "source": [
    "strs = [\"flower\",\"flow\",\"flight\"]\n",
    "#strs = [\"dog\",\"racecar\",\"car\"]\n",
    "#strs=[\"\"]\n",
    "#strs=[\"A\"]\n",
    "#strs=[\"\",\"b\"]\n",
    "#strs = [\"ab\", \"a\"]\n",
    "class Solution:\n",
    "    def longestCommonPrefix(self, strs) -> str:\n",
    "    \n",
    "        a=[]\n",
    "        b=[]\n",
    "        c=[]\n",
    "        o=\"\"\n",
    "        m=0\n",
    "        if (strs[0])==\"\":\n",
    "            o=\"\"\n",
    "        else:\n",
    "            for i in range(len(strs)):\n",
    "                #print(strs[i])\n",
    "\n",
    "                try:\n",
    "                    for j in strs[i][m]:\n",
    "                        \n",
    "                        a.append(j)\n",
    "                    \n",
    "                    if all(x==a[0] for x in a):\n",
    "                        m=m+1\n",
    "                    b.append(strs[i][0:m+1])\n",
    "                    \n",
    "                except:\n",
    "                    o=\"\"\n",
    "\n",
    "            if all(x==b[0] for x in b):\n",
    "                try:\n",
    "                    \n",
    "                    o=o+b[0]\n",
    "                except:\n",
    "                    o=\"\"\n",
    "            else:\n",
    "                o=\"\"\n",
    "\n",
    "        return o\n",
    "\n",
    "    \n",
    "\n",
    "akar=Solution()\n",
    "final=akar.longestCommonPrefix(strs)\n",
    "final   "
   ]
  },
  {
   "cell_type": "code",
   "execution_count": 553,
   "id": "6a4070fc",
   "metadata": {},
   "outputs": [
    {
     "name": "stdout",
     "output_type": "stream",
     "text": [
      "f\n",
      "l\n",
      "o\n"
     ]
    },
    {
     "data": {
      "text/plain": [
       "'fl'"
      ]
     },
     "execution_count": 553,
     "metadata": {},
     "output_type": "execute_result"
    }
   ],
   "source": [
    "class Solution:\n",
    "    def longestCommonPrefix(self, strs) -> str:\n",
    "        common = []\n",
    "        for l in strs[0]:\n",
    "            print(l)\n",
    "            if all(s.startswith(\"\".join(common)+l) for s in strs):\n",
    "                common.append(l)\n",
    "            else:\n",
    "                break\n",
    "        return \"\".join(common)\n",
    "akar=Solution()\n",
    "final=akar.longestCommonPrefix(strs)\n",
    "final   "
   ]
  },
  {
   "cell_type": "code",
   "execution_count": 554,
   "id": "1da86276",
   "metadata": {},
   "outputs": [
    {
     "data": {
      "text/plain": [
       "'flower'"
      ]
     },
     "execution_count": 554,
     "metadata": {},
     "output_type": "execute_result"
    }
   ],
   "source": []
  },
  {
   "cell_type": "code",
   "execution_count": null,
   "id": "0228b346",
   "metadata": {},
   "outputs": [],
   "source": []
  }
 ],
 "metadata": {
  "kernelspec": {
   "display_name": "Python 3 (ipykernel)",
   "language": "python",
   "name": "python3"
  },
  "language_info": {
   "codemirror_mode": {
    "name": "ipython",
    "version": 3
   },
   "file_extension": ".py",
   "mimetype": "text/x-python",
   "name": "python",
   "nbconvert_exporter": "python",
   "pygments_lexer": "ipython3",
   "version": "3.10.4"
  }
 },
 "nbformat": 4,
 "nbformat_minor": 5
}
