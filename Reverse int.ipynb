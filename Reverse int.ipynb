{
 "cells": [
  {
   "cell_type": "code",
   "execution_count": 112,
   "id": "e30210ea",
   "metadata": {},
   "outputs": [
    {
     "name": "stdout",
     "output_type": "stream",
     "text": [
      "-21\n"
     ]
    }
   ],
   "source": [
    "x = 1534236469\n",
    "x=-120\n",
    "class Solution:\n",
    "    def reverse(self, x: int) -> int:\n",
    "        y=str(x)\n",
    "        b=[]\n",
    "        l=len(y)\n",
    "        for i in y:\n",
    "            if i.isdigit()==False:\n",
    "                b.append(i)\n",
    "            else:\n",
    "\n",
    "                if i.isdigit():\n",
    "                    b.append(y[l-1])\n",
    "                    l=l-1\n",
    "\n",
    "        c=\"\".join(b)\n",
    "    \n",
    "        d=int(c)\n",
    "        if  (-2147483648 > d or d >2147483647):\n",
    "            return 0\n",
    "        else:\n",
    "            return d\n",
    "akar=Solution()\n",
    "a=akar.reverse(x)\n",
    "print(a)\n",
    "        \n",
    "\n",
    "        \n",
    "        "
   ]
  },
  {
   "cell_type": "code",
   "execution_count": 99,
   "id": "93aafd27",
   "metadata": {},
   "outputs": [
    {
     "data": {
      "text/plain": [
       "''"
      ]
     },
     "execution_count": 99,
     "metadata": {},
     "output_type": "execute_result"
    }
   ],
   "source": [
    "c"
   ]
  },
  {
   "cell_type": "code",
   "execution_count": null,
   "id": "968f0ddf",
   "metadata": {},
   "outputs": [],
   "source": []
  }
 ],
 "metadata": {
  "kernelspec": {
   "display_name": "Python 3 (ipykernel)",
   "language": "python",
   "name": "python3"
  },
  "language_info": {
   "codemirror_mode": {
    "name": "ipython",
    "version": 3
   },
   "file_extension": ".py",
   "mimetype": "text/x-python",
   "name": "python",
   "nbconvert_exporter": "python",
   "pygments_lexer": "ipython3",
   "version": "3.10.4"
  }
 },
 "nbformat": 4,
 "nbformat_minor": 5
}
