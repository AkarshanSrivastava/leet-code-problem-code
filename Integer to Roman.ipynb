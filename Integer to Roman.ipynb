{
 "cells": [
  {
   "cell_type": "code",
   "execution_count": 12,
   "id": "6884fe0a",
   "metadata": {},
   "outputs": [
    {
     "name": "stdout",
     "output_type": "stream",
     "text": [
      "['3']\n"
     ]
    }
   ],
   "source": [
    "s = \"3\"\n",
    "class Solution:\n",
    "    def romanToInt(self, s: str) -> int:\n",
    "        \n",
    "        s=s.replace(\"1\",\"I\").replace(\"5\",\"V\").replace(\"10\",\"X\").replace(\"50\",\"L\").replace(\"100\",\"C\").replace(\"500\",\"D\").replace(\"1000\",\"M\")\n",
    "\n",
    "\n",
    "        new_s=[]\n",
    "        for i in s:\n",
    "            i=i.replace(\"IIII\", \"IV\").replace(\"VIIII\", \"IX\").replace(\"XXXX\", \"XL\").replace(\"LXXXX\", \"XC\").replace(\"CCCC\", \"CD\").replace(\"DCCCC\", \"CM\")\n",
    "\n",
    "            new_s.append(i)\n",
    "\n",
    "        return (new_s)\n",
    "Akar=Solution()\n",
    "o=Akar.romanToInt(s)\n",
    "print(o)"
   ]
  },
  {
   "cell_type": "code",
   "execution_count": 13,
   "id": "d6291a8b",
   "metadata": {},
   "outputs": [],
   "source": [
    "s=3"
   ]
  },
  {
   "cell_type": "code",
   "execution_count": 21,
   "id": "3ce09494",
   "metadata": {},
   "outputs": [],
   "source": [
    "values = [ 1000, 900, 500, 400, 100, 90, 50, 40, 10, 9, 5, 4, 1 ]\n",
    "numerals = [ \"M\", \"CM\", \"D\", \"CD\", \"C\", \"XC\", \"L\", \"XL\", \"X\", \"IX\", \"V\", \"IV\", \"I\" ]"
   ]
  },
  {
   "cell_type": "code",
   "execution_count": 22,
   "id": "2d87bf67",
   "metadata": {},
   "outputs": [
    {
     "data": {
      "text/plain": [
       "1"
      ]
     },
     "execution_count": 22,
     "metadata": {},
     "output_type": "execute_result"
    }
   ],
   "source": [
    "7%2"
   ]
  },
  {
   "cell_type": "code",
   "execution_count": 23,
   "id": "8590f01b",
   "metadata": {},
   "outputs": [
    {
     "data": {
      "text/plain": [
       "<enumerate at 0x26d87db4e40>"
      ]
     },
     "execution_count": 23,
     "metadata": {},
     "output_type": "execute_result"
    }
   ],
   "source": [
    "e"
   ]
  },
  {
   "cell_type": "code",
   "execution_count": null,
   "id": "70f6fcf9",
   "metadata": {},
   "outputs": [],
   "source": []
  }
 ],
 "metadata": {
  "kernelspec": {
   "display_name": "Python 3 (ipykernel)",
   "language": "python",
   "name": "python3"
  },
  "language_info": {
   "codemirror_mode": {
    "name": "ipython",
    "version": 3
   },
   "file_extension": ".py",
   "mimetype": "text/x-python",
   "name": "python",
   "nbconvert_exporter": "python",
   "pygments_lexer": "ipython3",
   "version": "3.10.4"
  }
 },
 "nbformat": 4,
 "nbformat_minor": 5
}
